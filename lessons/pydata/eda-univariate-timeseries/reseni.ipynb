{
 "cells": [
  {
   "cell_type": "code",
   "execution_count": 1,
   "metadata": {},
   "outputs": [],
   "source": [
    "import pandas as pd\n",
    "import numpy as np\n",
    "import seaborn as sns\n",
    "import matplotlib.pyplot as plt"
   ]
  },
  {
   "cell_type": "code",
   "execution_count": 2,
   "metadata": {},
   "outputs": [],
   "source": [
    "# Načtení a zpracování denních dat\n",
    "denni_ruzyne = (\n",
    "    pd.ExcelFile(\"data-daily.xlsx\")\n",
    "    .parse(\"Praha-Ruzyne\")\n",
    "    .set_index(\"time\")\n",
    "    .drop(columns=[\"wdir\"])\n",
    "    .dropna(subset=[\"tavg\"])\n",
    ")"
   ]
  },
  {
   "cell_type": "markdown",
   "metadata": {},
   "source": [
    "**Otázka:** Co vrátí `denni_ruzyne_index.isna().count()`?"
   ]
  },
  {
   "cell_type": "code",
   "execution_count": 3,
   "metadata": {},
   "outputs": [
    {
     "data": {
      "text/plain": [
       "tavg    23258\n",
       "tmin    23258\n",
       "tmax    23258\n",
       "prcp    23258\n",
       "snow    23258\n",
       "wspd    23258\n",
       "wpgt    23258\n",
       "pres    23258\n",
       "tsun    23258\n",
       "dtype: int64"
      ]
     },
     "execution_count": 3,
     "metadata": {},
     "output_type": "execute_result"
    }
   ],
   "source": [
    "denni_ruzyne.isna().count()"
   ]
  },
  {
   "cell_type": "markdown",
   "metadata": {},
   "source": [
    "**Úkol:** Zkuste odstranit všechny řádky, pro které není definován `tsun`. Co nám to říká?"
   ]
  },
  {
   "cell_type": "code",
   "execution_count": 4,
   "metadata": {},
   "outputs": [
    {
     "data": {
      "text/html": [
       "<div>\n",
       "<style scoped>\n",
       "    .dataframe tbody tr th:only-of-type {\n",
       "        vertical-align: middle;\n",
       "    }\n",
       "\n",
       "    .dataframe tbody tr th {\n",
       "        vertical-align: top;\n",
       "    }\n",
       "\n",
       "    .dataframe thead th {\n",
       "        text-align: right;\n",
       "    }\n",
       "</style>\n",
       "<table border=\"1\" class=\"dataframe\">\n",
       "  <thead>\n",
       "    <tr style=\"text-align: right;\">\n",
       "      <th></th>\n",
       "      <th>tavg</th>\n",
       "      <th>tmin</th>\n",
       "      <th>tmax</th>\n",
       "      <th>prcp</th>\n",
       "      <th>snow</th>\n",
       "      <th>wspd</th>\n",
       "      <th>wpgt</th>\n",
       "      <th>pres</th>\n",
       "      <th>tsun</th>\n",
       "    </tr>\n",
       "    <tr>\n",
       "      <th>time</th>\n",
       "      <th></th>\n",
       "      <th></th>\n",
       "      <th></th>\n",
       "      <th></th>\n",
       "      <th></th>\n",
       "      <th></th>\n",
       "      <th></th>\n",
       "      <th></th>\n",
       "      <th></th>\n",
       "    </tr>\n",
       "  </thead>\n",
       "  <tbody>\n",
       "    <tr>\n",
       "      <th>2022-08-10</th>\n",
       "      <td>19.9</td>\n",
       "      <td>13.6</td>\n",
       "      <td>25.3</td>\n",
       "      <td>0.0</td>\n",
       "      <td>NaN</td>\n",
       "      <td>9.3</td>\n",
       "      <td>22.2</td>\n",
       "      <td>1025.3</td>\n",
       "      <td>646.0</td>\n",
       "    </tr>\n",
       "    <tr>\n",
       "      <th>2022-08-11</th>\n",
       "      <td>19.5</td>\n",
       "      <td>12.5</td>\n",
       "      <td>24.5</td>\n",
       "      <td>0.0</td>\n",
       "      <td>NaN</td>\n",
       "      <td>10.0</td>\n",
       "      <td>29.6</td>\n",
       "      <td>1022.8</td>\n",
       "      <td>697.0</td>\n",
       "    </tr>\n",
       "    <tr>\n",
       "      <th>2022-08-12</th>\n",
       "      <td>19.2</td>\n",
       "      <td>12.6</td>\n",
       "      <td>25.4</td>\n",
       "      <td>0.0</td>\n",
       "      <td>NaN</td>\n",
       "      <td>13.4</td>\n",
       "      <td>33.3</td>\n",
       "      <td>1020.0</td>\n",
       "      <td>575.0</td>\n",
       "    </tr>\n",
       "    <tr>\n",
       "      <th>2022-08-13</th>\n",
       "      <td>19.4</td>\n",
       "      <td>13.9</td>\n",
       "      <td>24.1</td>\n",
       "      <td>NaN</td>\n",
       "      <td>NaN</td>\n",
       "      <td>11.0</td>\n",
       "      <td>29.6</td>\n",
       "      <td>1016.3</td>\n",
       "      <td>389.0</td>\n",
       "    </tr>\n",
       "    <tr>\n",
       "      <th>2022-08-14</th>\n",
       "      <td>21.3</td>\n",
       "      <td>17.0</td>\n",
       "      <td>27.0</td>\n",
       "      <td>1.0</td>\n",
       "      <td>NaN</td>\n",
       "      <td>7.8</td>\n",
       "      <td>22.2</td>\n",
       "      <td>1010.7</td>\n",
       "      <td>365.0</td>\n",
       "    </tr>\n",
       "    <tr>\n",
       "      <th>...</th>\n",
       "      <td>...</td>\n",
       "      <td>...</td>\n",
       "      <td>...</td>\n",
       "      <td>...</td>\n",
       "      <td>...</td>\n",
       "      <td>...</td>\n",
       "      <td>...</td>\n",
       "      <td>...</td>\n",
       "      <td>...</td>\n",
       "    </tr>\n",
       "    <tr>\n",
       "      <th>2025-08-27</th>\n",
       "      <td>18.8</td>\n",
       "      <td>12.6</td>\n",
       "      <td>27.0</td>\n",
       "      <td>0.3</td>\n",
       "      <td>NaN</td>\n",
       "      <td>9.7</td>\n",
       "      <td>24.1</td>\n",
       "      <td>1012.1</td>\n",
       "      <td>429.0</td>\n",
       "    </tr>\n",
       "    <tr>\n",
       "      <th>2025-08-28</th>\n",
       "      <td>21.2</td>\n",
       "      <td>15.7</td>\n",
       "      <td>30.0</td>\n",
       "      <td>7.0</td>\n",
       "      <td>NaN</td>\n",
       "      <td>12.0</td>\n",
       "      <td>47.0</td>\n",
       "      <td>1006.3</td>\n",
       "      <td>374.0</td>\n",
       "    </tr>\n",
       "    <tr>\n",
       "      <th>2025-08-29</th>\n",
       "      <td>18.6</td>\n",
       "      <td>15.3</td>\n",
       "      <td>23.7</td>\n",
       "      <td>17.7</td>\n",
       "      <td>NaN</td>\n",
       "      <td>10.4</td>\n",
       "      <td>27.8</td>\n",
       "      <td>1004.4</td>\n",
       "      <td>231.0</td>\n",
       "    </tr>\n",
       "    <tr>\n",
       "      <th>2025-08-30</th>\n",
       "      <td>18.1</td>\n",
       "      <td>15.2</td>\n",
       "      <td>23.0</td>\n",
       "      <td>13.1</td>\n",
       "      <td>NaN</td>\n",
       "      <td>12.2</td>\n",
       "      <td>33.3</td>\n",
       "      <td>1008.3</td>\n",
       "      <td>292.0</td>\n",
       "    </tr>\n",
       "    <tr>\n",
       "      <th>2025-08-31</th>\n",
       "      <td>18.0</td>\n",
       "      <td>11.6</td>\n",
       "      <td>23.9</td>\n",
       "      <td>0.0</td>\n",
       "      <td>NaN</td>\n",
       "      <td>9.1</td>\n",
       "      <td>37.0</td>\n",
       "      <td>1013.2</td>\n",
       "      <td>357.0</td>\n",
       "    </tr>\n",
       "  </tbody>\n",
       "</table>\n",
       "<p>1118 rows × 9 columns</p>\n",
       "</div>"
      ],
      "text/plain": [
       "            tavg  tmin  tmax  prcp  snow  wspd  wpgt    pres   tsun\n",
       "time                                                               \n",
       "2022-08-10  19.9  13.6  25.3   0.0   NaN   9.3  22.2  1025.3  646.0\n",
       "2022-08-11  19.5  12.5  24.5   0.0   NaN  10.0  29.6  1022.8  697.0\n",
       "2022-08-12  19.2  12.6  25.4   0.0   NaN  13.4  33.3  1020.0  575.0\n",
       "2022-08-13  19.4  13.9  24.1   NaN   NaN  11.0  29.6  1016.3  389.0\n",
       "2022-08-14  21.3  17.0  27.0   1.0   NaN   7.8  22.2  1010.7  365.0\n",
       "...          ...   ...   ...   ...   ...   ...   ...     ...    ...\n",
       "2025-08-27  18.8  12.6  27.0   0.3   NaN   9.7  24.1  1012.1  429.0\n",
       "2025-08-28  21.2  15.7  30.0   7.0   NaN  12.0  47.0  1006.3  374.0\n",
       "2025-08-29  18.6  15.3  23.7  17.7   NaN  10.4  27.8  1004.4  231.0\n",
       "2025-08-30  18.1  15.2  23.0  13.1   NaN  12.2  33.3  1008.3  292.0\n",
       "2025-08-31  18.0  11.6  23.9   0.0   NaN   9.1  37.0  1013.2  357.0\n",
       "\n",
       "[1118 rows x 9 columns]"
      ]
     },
     "execution_count": 4,
     "metadata": {},
     "output_type": "execute_result"
    }
   ],
   "source": [
    "denni_ruzyne.dropna(subset=[\"tsun\"])"
   ]
  },
  {
   "cell_type": "markdown",
   "metadata": {},
   "source": [
    "**Úkol:** Zkuste odstranit všechny řádky, pro které není definován `snow`. Co nám to říká?"
   ]
  },
  {
   "cell_type": "code",
   "execution_count": 5,
   "metadata": {},
   "outputs": [
    {
     "data": {
      "text/html": [
       "<div>\n",
       "<style scoped>\n",
       "    .dataframe tbody tr th:only-of-type {\n",
       "        vertical-align: middle;\n",
       "    }\n",
       "\n",
       "    .dataframe tbody tr th {\n",
       "        vertical-align: top;\n",
       "    }\n",
       "\n",
       "    .dataframe thead th {\n",
       "        text-align: right;\n",
       "    }\n",
       "</style>\n",
       "<table border=\"1\" class=\"dataframe\">\n",
       "  <thead>\n",
       "    <tr style=\"text-align: right;\">\n",
       "      <th></th>\n",
       "      <th>tavg</th>\n",
       "      <th>tmin</th>\n",
       "      <th>tmax</th>\n",
       "      <th>prcp</th>\n",
       "      <th>snow</th>\n",
       "      <th>wspd</th>\n",
       "      <th>wpgt</th>\n",
       "      <th>pres</th>\n",
       "      <th>tsun</th>\n",
       "    </tr>\n",
       "    <tr>\n",
       "      <th>time</th>\n",
       "      <th></th>\n",
       "      <th></th>\n",
       "      <th></th>\n",
       "      <th></th>\n",
       "      <th></th>\n",
       "      <th></th>\n",
       "      <th></th>\n",
       "      <th></th>\n",
       "      <th></th>\n",
       "    </tr>\n",
       "  </thead>\n",
       "  <tbody>\n",
       "    <tr>\n",
       "      <th>1973-01-16</th>\n",
       "      <td>-2.8</td>\n",
       "      <td>-4.0</td>\n",
       "      <td>-1.0</td>\n",
       "      <td>0.0</td>\n",
       "      <td>1.0</td>\n",
       "      <td>11.3</td>\n",
       "      <td>NaN</td>\n",
       "      <td>NaN</td>\n",
       "      <td>NaN</td>\n",
       "    </tr>\n",
       "    <tr>\n",
       "      <th>1973-01-17</th>\n",
       "      <td>-1.9</td>\n",
       "      <td>-3.0</td>\n",
       "      <td>0.0</td>\n",
       "      <td>0.0</td>\n",
       "      <td>1.0</td>\n",
       "      <td>20.3</td>\n",
       "      <td>NaN</td>\n",
       "      <td>NaN</td>\n",
       "      <td>NaN</td>\n",
       "    </tr>\n",
       "    <tr>\n",
       "      <th>1973-01-28</th>\n",
       "      <td>0.6</td>\n",
       "      <td>0.0</td>\n",
       "      <td>2.0</td>\n",
       "      <td>0.5</td>\n",
       "      <td>8.0</td>\n",
       "      <td>32.8</td>\n",
       "      <td>NaN</td>\n",
       "      <td>NaN</td>\n",
       "      <td>NaN</td>\n",
       "    </tr>\n",
       "    <tr>\n",
       "      <th>1973-02-27</th>\n",
       "      <td>-4.4</td>\n",
       "      <td>-7.0</td>\n",
       "      <td>-1.0</td>\n",
       "      <td>0.0</td>\n",
       "      <td>1.0</td>\n",
       "      <td>32.1</td>\n",
       "      <td>NaN</td>\n",
       "      <td>NaN</td>\n",
       "      <td>NaN</td>\n",
       "    </tr>\n",
       "    <tr>\n",
       "      <th>1974-10-19</th>\n",
       "      <td>6.6</td>\n",
       "      <td>2.0</td>\n",
       "      <td>10.0</td>\n",
       "      <td>0.0</td>\n",
       "      <td>95.0</td>\n",
       "      <td>19.0</td>\n",
       "      <td>NaN</td>\n",
       "      <td>NaN</td>\n",
       "      <td>NaN</td>\n",
       "    </tr>\n",
       "    <tr>\n",
       "      <th>...</th>\n",
       "      <td>...</td>\n",
       "      <td>...</td>\n",
       "      <td>...</td>\n",
       "      <td>...</td>\n",
       "      <td>...</td>\n",
       "      <td>...</td>\n",
       "      <td>...</td>\n",
       "      <td>...</td>\n",
       "      <td>...</td>\n",
       "    </tr>\n",
       "    <tr>\n",
       "      <th>2024-01-18</th>\n",
       "      <td>-2.1</td>\n",
       "      <td>-2.9</td>\n",
       "      <td>-0.5</td>\n",
       "      <td>2.8</td>\n",
       "      <td>4.0</td>\n",
       "      <td>15.9</td>\n",
       "      <td>37.0</td>\n",
       "      <td>996.0</td>\n",
       "      <td>0.0</td>\n",
       "    </tr>\n",
       "    <tr>\n",
       "      <th>2024-01-20</th>\n",
       "      <td>-3.7</td>\n",
       "      <td>-5.5</td>\n",
       "      <td>-0.5</td>\n",
       "      <td>0.0</td>\n",
       "      <td>3.0</td>\n",
       "      <td>24.3</td>\n",
       "      <td>40.8</td>\n",
       "      <td>1030.9</td>\n",
       "      <td>382.0</td>\n",
       "    </tr>\n",
       "    <tr>\n",
       "      <th>2024-11-23</th>\n",
       "      <td>0.7</td>\n",
       "      <td>-2.3</td>\n",
       "      <td>3.4</td>\n",
       "      <td>0.0</td>\n",
       "      <td>1.0</td>\n",
       "      <td>21.9</td>\n",
       "      <td>61.0</td>\n",
       "      <td>1020.8</td>\n",
       "      <td>204.0</td>\n",
       "    </tr>\n",
       "    <tr>\n",
       "      <th>2024-12-11</th>\n",
       "      <td>-0.4</td>\n",
       "      <td>-1.3</td>\n",
       "      <td>0.5</td>\n",
       "      <td>2.5</td>\n",
       "      <td>1.0</td>\n",
       "      <td>10.6</td>\n",
       "      <td>20.4</td>\n",
       "      <td>1029.9</td>\n",
       "      <td>27.0</td>\n",
       "    </tr>\n",
       "    <tr>\n",
       "      <th>2024-12-13</th>\n",
       "      <td>-1.3</td>\n",
       "      <td>-1.9</td>\n",
       "      <td>-0.7</td>\n",
       "      <td>0.0</td>\n",
       "      <td>1.0</td>\n",
       "      <td>11.0</td>\n",
       "      <td>24.1</td>\n",
       "      <td>1032.5</td>\n",
       "      <td>20.0</td>\n",
       "    </tr>\n",
       "  </tbody>\n",
       "</table>\n",
       "<p>1051 rows × 9 columns</p>\n",
       "</div>"
      ],
      "text/plain": [
       "            tavg  tmin  tmax  prcp  snow  wspd  wpgt    pres   tsun\n",
       "time                                                               \n",
       "1973-01-16  -2.8  -4.0  -1.0   0.0   1.0  11.3   NaN     NaN    NaN\n",
       "1973-01-17  -1.9  -3.0   0.0   0.0   1.0  20.3   NaN     NaN    NaN\n",
       "1973-01-28   0.6   0.0   2.0   0.5   8.0  32.8   NaN     NaN    NaN\n",
       "1973-02-27  -4.4  -7.0  -1.0   0.0   1.0  32.1   NaN     NaN    NaN\n",
       "1974-10-19   6.6   2.0  10.0   0.0  95.0  19.0   NaN     NaN    NaN\n",
       "...          ...   ...   ...   ...   ...   ...   ...     ...    ...\n",
       "2024-01-18  -2.1  -2.9  -0.5   2.8   4.0  15.9  37.0   996.0    0.0\n",
       "2024-01-20  -3.7  -5.5  -0.5   0.0   3.0  24.3  40.8  1030.9  382.0\n",
       "2024-11-23   0.7  -2.3   3.4   0.0   1.0  21.9  61.0  1020.8  204.0\n",
       "2024-12-11  -0.4  -1.3   0.5   2.5   1.0  10.6  20.4  1029.9   27.0\n",
       "2024-12-13  -1.3  -1.9  -0.7   0.0   1.0  11.0  24.1  1032.5   20.0\n",
       "\n",
       "[1051 rows x 9 columns]"
      ]
     },
     "execution_count": 5,
     "metadata": {},
     "output_type": "execute_result"
    }
   ],
   "source": [
    "denni_ruzyne.dropna(subset=[\"snow\"])"
   ]
  },
  {
   "cell_type": "markdown",
   "metadata": {},
   "source": [
    "**Úkol:** Nejstarší tag Pandas na https://github.com/pandas-dev/pandas je verze 0.3.0 z 20. února 2011. Jaké bylo v ten den v Praze - Ruzyni počasí?"
   ]
  },
  {
   "cell_type": "code",
   "execution_count": 6,
   "metadata": {},
   "outputs": [
    {
     "data": {
      "text/plain": [
       "tavg      -5.9\n",
       "tmin      -9.5\n",
       "tmax      -4.1\n",
       "prcp       NaN\n",
       "snow       NaN\n",
       "wspd      16.3\n",
       "wpgt       NaN\n",
       "pres    1021.5\n",
       "tsun       NaN\n",
       "Name: 2011-02-20 00:00:00, dtype: float64"
      ]
     },
     "execution_count": 6,
     "metadata": {},
     "output_type": "execute_result"
    }
   ],
   "source": [
    "denni_ruzyne.loc[\"2011-02-20\"]"
   ]
  },
  {
   "cell_type": "markdown",
   "metadata": {},
   "source": [
    "**Úkol:** Jaká byla průměrná teplota první (a jedinou) neděli v roce 2010, která byla zároveň začátkem měsíce? Pokud máte řešení a čas, zkuste vymyslet aternativní způsob(y). "
   ]
  },
  {
   "cell_type": "code",
   "execution_count": 7,
   "metadata": {},
   "outputs": [
    {
     "data": {
      "text/plain": [
       "time\n",
       "2010-08-01    21.0\n",
       "Name: tavg, dtype: float64"
      ]
     },
     "execution_count": 7,
     "metadata": {},
     "output_type": "execute_result"
    }
   ],
   "source": [
    "# odkomentuj a doplň\n",
    "denni_ruzyne.loc[\n",
    "    (denni_ruzyne.index.year == 2010)\n",
    "    & (denni_ruzyne.index.day == 1)\n",
    "    & (denni_ruzyne.index.day_name() == \"Sunday\"),\n",
    "    \"tavg\",\n",
    "]"
   ]
  },
  {
   "cell_type": "code",
   "execution_count": 8,
   "metadata": {},
   "outputs": [
    {
     "data": {
      "image/png": "[encoded data removed]",
      "text/plain": [
       "<Figure size 1000x500 with 1 Axes>"
      ]
     },
     "metadata": {},
     "output_type": "display_data"
    }
   ],
   "source": [
    "sns.catplot(\n",
    "    data=denni_ruzyne[[\"tavg\", \"tmin\", \"tmax\"]],\n",
    "    orient=\"h\",\n",
    "    kind=\"box\",\n",
    "    aspect=2,\n",
    ");"
   ]
  },
  {
   "cell_type": "markdown",
   "metadata": {},
   "source": [
    "**Úkol**: Doplňte pomocné sloupce `season` a `significant_precipitation` (jistě uhádnete jakého pandas-typu budou :). První definuje roční období (jen jednoduše podle kalendářních měsíců), druhý označuje dny, kdy byly srážky vyšší než v **90 %** všech dní v našich datech (můžete zkusit i jiný limit).\n",
    "\n",
    "1. Porovnejte numericky základní statistiky celého datasetu a podmnožiny, kdy výrazně pršelo nebo sněžilo. Zvyšují v průměru srážky teplotu? A co maximální nebo minimální? A jak je to se standardní odchylkou?\n",
    "2. Použijte `sns.catplot` pro vizuální srovnání distribučních funkcí pro jednotlivá roční období a dny s málo / hodně srážkami."
   ]
  },
  {
   "cell_type": "code",
   "execution_count": 9,
   "metadata": {},
   "outputs": [
    {
     "data": {
      "text/plain": [
       "time\n",
       "1940-01-02    False\n",
       "1940-01-03    False\n",
       "1940-01-06    False\n",
       "1940-01-07    False\n",
       "1940-01-12    False\n",
       "              ...  \n",
       "2025-08-27    False\n",
       "2025-08-28     True\n",
       "2025-08-29     True\n",
       "2025-08-30     True\n",
       "2025-08-31    False\n",
       "Name: prcp, Length: 23258, dtype: bool"
      ]
     },
     "execution_count": 9,
     "metadata": {},
     "output_type": "execute_result"
    }
   ],
   "source": [
    "# odkomentuj a doplň\n",
    "season = denni_ruzyne.index.month.map({\n",
    "    1: \"zima\",\n",
    "    2: \"zima\",\n",
    "    3: \"jaro\",\n",
    "    4: \"jaro\",\n",
    "    5: \"jaro\",\n",
    "    6: \"léto\",\n",
    "    7: \"léto\",\n",
    "    8: \"léto\",\n",
    "    9: \"podzim\",\n",
    "    10: \"podzim\",\n",
    "    11: \"podzim\",\n",
    "    12: \"zima\"\n",
    "})\n",
    "\n",
    "significant_precipitation = denni_ruzyne[\"prcp\"] > denni_ruzyne[\"prcp\"].quantile(.9)\n",
    "significant_precipitation"
   ]
  },
  {
   "cell_type": "code",
   "execution_count": 10,
   "metadata": {},
   "outputs": [
    {
     "data": {
      "text/html": [
       "<div>\n",
       "<style scoped>\n",
       "    .dataframe tbody tr th:only-of-type {\n",
       "        vertical-align: middle;\n",
       "    }\n",
       "\n",
       "    .dataframe tbody tr th {\n",
       "        vertical-align: top;\n",
       "    }\n",
       "\n",
       "    .dataframe thead th {\n",
       "        text-align: right;\n",
       "    }\n",
       "</style>\n",
       "<table border=\"1\" class=\"dataframe\">\n",
       "  <thead>\n",
       "    <tr style=\"text-align: right;\">\n",
       "      <th></th>\n",
       "      <th>tavg</th>\n",
       "      <th>tmin</th>\n",
       "      <th>tmax</th>\n",
       "      <th>prcp</th>\n",
       "      <th>snow</th>\n",
       "      <th>wspd</th>\n",
       "      <th>wpgt</th>\n",
       "      <th>pres</th>\n",
       "      <th>tsun</th>\n",
       "    </tr>\n",
       "  </thead>\n",
       "  <tbody>\n",
       "    <tr>\n",
       "      <th>count</th>\n",
       "      <td>-21828.000000</td>\n",
       "      <td>-19381.000000</td>\n",
       "      <td>-21339.000000</td>\n",
       "      <td>-13213.000000</td>\n",
       "      <td>-995.000000</td>\n",
       "      <td>-15947.000000</td>\n",
       "      <td>-2388.000000</td>\n",
       "      <td>-10491.000000</td>\n",
       "      <td>-1017.000000</td>\n",
       "    </tr>\n",
       "    <tr>\n",
       "      <th>mean</th>\n",
       "      <td>2.606924</td>\n",
       "      <td>3.792539</td>\n",
       "      <td>1.817429</td>\n",
       "      <td>9.814646</td>\n",
       "      <td>0.484810</td>\n",
       "      <td>1.674077</td>\n",
       "      <td>6.581875</td>\n",
       "      <td>-4.506112</td>\n",
       "      <td>-75.870136</td>\n",
       "    </tr>\n",
       "    <tr>\n",
       "      <th>std</th>\n",
       "      <td>-1.809908</td>\n",
       "      <td>-1.270391</td>\n",
       "      <td>-1.873576</td>\n",
       "      <td>7.894197</td>\n",
       "      <td>-6.691121</td>\n",
       "      <td>-0.251440</td>\n",
       "      <td>1.777698</td>\n",
       "      <td>-1.355154</td>\n",
       "      <td>-47.368365</td>\n",
       "    </tr>\n",
       "    <tr>\n",
       "      <th>min</th>\n",
       "      <td>11.900000</td>\n",
       "      <td>7.900000</td>\n",
       "      <td>9.200000</td>\n",
       "      <td>4.700000</td>\n",
       "      <td>0.000000</td>\n",
       "      <td>2.200000</td>\n",
       "      <td>5.500000</td>\n",
       "      <td>0.000000</td>\n",
       "      <td>0.000000</td>\n",
       "    </tr>\n",
       "    <tr>\n",
       "      <th>25%</th>\n",
       "      <td>4.300000</td>\n",
       "      <td>4.100000</td>\n",
       "      <td>4.150000</td>\n",
       "      <td>6.100000</td>\n",
       "      <td>0.000000</td>\n",
       "      <td>2.100000</td>\n",
       "      <td>5.500000</td>\n",
       "      <td>-3.300000</td>\n",
       "      <td>-39.000000</td>\n",
       "    </tr>\n",
       "    <tr>\n",
       "      <th>50%</th>\n",
       "      <td>3.500000</td>\n",
       "      <td>4.650000</td>\n",
       "      <td>2.300000</td>\n",
       "      <td>8.050000</td>\n",
       "      <td>0.500000</td>\n",
       "      <td>1.700000</td>\n",
       "      <td>10.400000</td>\n",
       "      <td>-4.200000</td>\n",
       "      <td>-49.500000</td>\n",
       "    </tr>\n",
       "    <tr>\n",
       "      <th>75%</th>\n",
       "      <td>0.900000</td>\n",
       "      <td>2.800000</td>\n",
       "      <td>-0.400000</td>\n",
       "      <td>11.700000</td>\n",
       "      <td>2.250000</td>\n",
       "      <td>1.400000</td>\n",
       "      <td>6.200000</td>\n",
       "      <td>-5.200000</td>\n",
       "      <td>-147.750000</td>\n",
       "    </tr>\n",
       "    <tr>\n",
       "      <th>max</th>\n",
       "      <td>-2.200000</td>\n",
       "      <td>-2.100000</td>\n",
       "      <td>-2.400000</td>\n",
       "      <td>0.000000</td>\n",
       "      <td>-266.000000</td>\n",
       "      <td>-6.200000</td>\n",
       "      <td>-14.000000</td>\n",
       "      <td>-15.700000</td>\n",
       "      <td>-115.000000</td>\n",
       "    </tr>\n",
       "  </tbody>\n",
       "</table>\n",
       "</div>"
      ],
      "text/plain": [
       "               tavg          tmin          tmax          prcp        snow  \\\n",
       "count -21828.000000 -19381.000000 -21339.000000 -13213.000000 -995.000000   \n",
       "mean       2.606924      3.792539      1.817429      9.814646    0.484810   \n",
       "std       -1.809908     -1.270391     -1.873576      7.894197   -6.691121   \n",
       "min       11.900000      7.900000      9.200000      4.700000    0.000000   \n",
       "25%        4.300000      4.100000      4.150000      6.100000    0.000000   \n",
       "50%        3.500000      4.650000      2.300000      8.050000    0.500000   \n",
       "75%        0.900000      2.800000     -0.400000     11.700000    2.250000   \n",
       "max       -2.200000     -2.100000     -2.400000      0.000000 -266.000000   \n",
       "\n",
       "               wspd         wpgt          pres         tsun  \n",
       "count -15947.000000 -2388.000000 -10491.000000 -1017.000000  \n",
       "mean       1.674077     6.581875     -4.506112   -75.870136  \n",
       "std       -0.251440     1.777698     -1.355154   -47.368365  \n",
       "min        2.200000     5.500000      0.000000     0.000000  \n",
       "25%        2.100000     5.500000     -3.300000   -39.000000  \n",
       "50%        1.700000    10.400000     -4.200000   -49.500000  \n",
       "75%        1.400000     6.200000     -5.200000  -147.750000  \n",
       "max       -6.200000   -14.000000    -15.700000  -115.000000  "
      ]
     },
     "execution_count": 10,
     "metadata": {},
     "output_type": "execute_result"
    }
   ],
   "source": [
    "# úkol - jednoduché srovnání statistik pomocí rozdílu\n",
    "(\n",
    "    denni_ruzyne.loc[significant_precipitation].describe() - \n",
    "    denni_ruzyne.describe()\n",
    ")"
   ]
  },
  {
   "cell_type": "code",
   "execution_count": 11,
   "metadata": {},
   "outputs": [
    {
     "data": {
      "image/png": "[encoded data removed]",
      "text/plain": [
       "<Figure size 1177.86x500 with 1 Axes>"
      ]
     },
     "metadata": {},
     "output_type": "display_data"
    }
   ],
   "source": [
    "# úkol - vizuální srovnání statistik\n",
    "sns.catplot(\n",
    "     data=denni_ruzyne.assign(\n",
    "        significant_precipitation=significant_precipitation,\n",
    "         season=season,\n",
    "     ),\n",
    "    kind=\"box\",\n",
    "     aspect=2,\n",
    "    hue=\"significant_precipitation\",\n",
    "     y=\"season\",\n",
    "    x=\"tavg\",\n",
    ");"
   ]
  },
  {
   "cell_type": "markdown",
   "metadata": {},
   "source": [
    "Co že jsme to vlastně vytvořili?"
   ]
  },
  {
   "cell_type": "code",
   "execution_count": 12,
   "metadata": {},
   "outputs": [],
   "source": [
    "rocni_ruzyne = denni_ruzyne.resample(\"1YE\")"
   ]
  },
  {
   "cell_type": "markdown",
   "metadata": {},
   "source": [
    "**Úkol:** Navrhněte vhodnou roční agregaci pro maximální teplotu (ne průměr) a vykreslete."
   ]
  },
  {
   "cell_type": "code",
   "execution_count": 13,
   "metadata": {},
   "outputs": [
    {
     "data": {
      "image/png": "[encoded data removed]",
      "text/plain": [
       "<Figure size 640x480 with 1 Axes>"
      ]
     },
     "metadata": {},
     "output_type": "display_data"
    }
   ],
   "source": [
    "# odkomentuj a doplň\n",
    "rocni_ruzyne[\"tmax\"].max().plot();"
   ]
  },
  {
   "cell_type": "markdown",
   "metadata": {},
   "source": [
    "**Úkol:** Najděte, kdy v období 2000-2025 napršelo nejvíc za týden (tedy za průběžných 7 dnů). Odpovídá to nějaké vaší historické zkušenosti?"
   ]
  },
  {
   "cell_type": "code",
   "execution_count": 14,
   "metadata": {},
   "outputs": [
    {
     "data": {
      "text/plain": [
       "time\n",
       "2010-07-24    133.4\n",
       "2010-07-29    105.5\n",
       "2010-07-28    105.5\n",
       "2010-07-25    105.0\n",
       "2010-07-26    104.0\n",
       "2010-07-27    104.0\n",
       "2022-06-30    103.0\n",
       "2022-07-01    103.0\n",
       "2024-09-15     87.9\n",
       "2024-09-14     87.9\n",
       "Name: prcp, dtype: float64"
      ]
     },
     "execution_count": 14,
     "metadata": {},
     "output_type": "execute_result"
    }
   ],
   "source": [
    "# doplňte nebo vyřešte po svém :)\n",
    "denni_ruzyne.loc[\"2000\":\"2025\"][\"prcp\"].rolling(\"7D\").sum().sort_values(ascending=False).iloc[:10]"
   ]
  },
  {
   "cell_type": "markdown",
   "metadata": {},
   "source": [
    "**Nepovinný úkol:** Rozšiřte hledání na celé období v naší datové sadě - jsou některé hodnoty realistické?"
   ]
  },
  {
   "cell_type": "code",
   "execution_count": 15,
   "metadata": {},
   "outputs": [
    {
     "data": {
      "text/plain": [
       "time\n",
       "1980-05-31    324.1\n",
       "1980-06-02    324.1\n",
       "1980-06-01    324.1\n",
       "1980-05-30    324.1\n",
       "1980-05-29    323.6\n",
       "1980-06-03    318.5\n",
       "1980-05-28    307.1\n",
       "1979-07-31    267.4\n",
       "1979-08-01    267.4\n",
       "1979-08-02    264.4\n",
       "Name: prcp, dtype: float64"
      ]
     },
     "execution_count": 15,
     "metadata": {},
     "output_type": "execute_result"
    }
   ],
   "source": [
    "denni_ruzyne[\"prcp\"].rolling(\"7D\").sum().sort_values(ascending=False).iloc[:10]"
   ]
  },
  {
   "cell_type": "code",
   "execution_count": 16,
   "metadata": {},
   "outputs": [],
   "source": [
    "hodinove_ruzyne = (\n",
    "    pd.read_parquet(\"praha-meteostat.parquet\")\n",
    "    .assign(\n",
    "        time=lambda df: df[\"time\"].dt.tz_localize(\"UTC\").dt.tz_convert(\"Europe/Prague\")\n",
    "    )\n",
    "    .set_index(\"time\")\n",
    ")"
   ]
  },
  {
   "cell_type": "markdown",
   "metadata": {},
   "source": [
    "**Úkol:** Jak silný foukal vítr (jak moc pršelo) v kterou hodinu den tvého narození?"
   ]
  },
  {
   "cell_type": "code",
   "execution_count": 17,
   "metadata": {},
   "outputs": [
    {
     "data": {
      "text/plain": [
       "time\n",
       "2000-01-01 00:00:00+01:00     3.6\n",
       "2000-01-01 01:00:00+01:00     3.6\n",
       "2000-01-01 02:00:00+01:00     3.6\n",
       "2000-01-01 03:00:00+01:00     3.6\n",
       "2000-01-01 04:00:00+01:00     7.2\n",
       "2000-01-01 05:00:00+01:00     7.2\n",
       "2000-01-01 06:00:00+01:00     3.6\n",
       "2000-01-01 07:00:00+01:00     3.6\n",
       "2000-01-01 08:00:00+01:00     7.2\n",
       "2000-01-01 09:00:00+01:00    14.4\n",
       "2000-01-01 10:00:00+01:00    14.4\n",
       "2000-01-01 11:00:00+01:00    18.0\n",
       "2000-01-01 12:00:00+01:00    14.4\n",
       "2000-01-01 13:00:00+01:00    18.0\n",
       "2000-01-01 14:00:00+01:00    18.0\n",
       "2000-01-01 15:00:00+01:00    14.4\n",
       "2000-01-01 16:00:00+01:00    14.4\n",
       "2000-01-01 17:00:00+01:00    10.8\n",
       "2000-01-01 18:00:00+01:00    18.0\n",
       "2000-01-01 19:00:00+01:00    14.4\n",
       "2000-01-01 20:00:00+01:00    14.4\n",
       "2000-01-01 21:00:00+01:00    14.4\n",
       "2000-01-01 22:00:00+01:00    10.8\n",
       "2000-01-01 23:00:00+01:00    14.4\n",
       "Name: wspd, dtype: Float64"
      ]
     },
     "execution_count": 17,
     "metadata": {},
     "output_type": "execute_result"
    }
   ],
   "source": [
    "hodinove_ruzyne.loc[\"2000-01-01\", \"wspd\"]"
   ]
  },
  {
   "cell_type": "code",
   "execution_count": null,
   "metadata": {},
   "outputs": [],
   "source": []
  }
 ],
 "metadata": {
  "kernelspec": {
   "display_name": "Python 3 (ipykernel)",
   "language": "python",
   "name": "python3"
  },
  "language_info": {
   "codemirror_mode": {
    "name": "ipython",
    "version": 3
   },
   "file_extension": ".py",
   "mimetype": "text/x-python",
   "name": "python",
   "nbconvert_exporter": "python",
   "pygments_lexer": "ipython3",
   "version": "3.11.9"
  }
 },
 "nbformat": 4,
 "nbformat_minor": 4
}
