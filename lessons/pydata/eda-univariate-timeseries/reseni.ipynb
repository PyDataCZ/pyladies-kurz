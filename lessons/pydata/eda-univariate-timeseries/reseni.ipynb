{
 "cells": [
  {
   "cell_type": "code",
   "execution_count": null,
   "metadata": {},
   "outputs": [],
   "source": [
    "import pandas as pd\n",
    "import numpy as np\n",
    "import seaborn as sns\n",
    "import matplotlib.pyplot as plt"
   ]
  },
  {
   "cell_type": "code",
   "execution_count": null,
   "metadata": {},
   "outputs": [],
   "source": [
    "# Načtení a zpracování denních dat\n",
    "denni_excel = (\n",
    "    pd.ExcelFile(\"data-daily.xlsx\")\n",
    "    .parse(\"Praha-Ruzyne\")\n",
    "    .set_index(\"time\")\n",
    "    .drop(columns=[\"wdir\"])\n",
    "    .dropna(subset=[\"tavg\"])\n",
    ")"
   ]
  },
  {
   "cell_type": "markdown",
   "metadata": {},
   "source": [
    "**Otázka:** Co vrátí `denni_ruzyne_index.isna().count()`?"
   ]
  },
  {
   "cell_type": "code",
   "execution_count": null,
   "metadata": {},
   "outputs": [],
   "source": [
    "denni_ruzyne_index.isna().count()"
   ]
  },
  {
   "cell_type": "markdown",
   "metadata": {},
   "source": [
    "**Úkol:** Zkuste odstranit všechny řádky, pro které není definován `tsun`. Co nám to říká?"
   ]
  },
  {
   "cell_type": "code",
   "execution_count": null,
   "metadata": {},
   "outputs": [],
   "source": [
    "denni_ruzyne.dropna(subset=[\"tsun\"])"
   ]
  },
  {
   "cell_type": "markdown",
   "metadata": {},
   "source": [
    "**Úkol:** Zkuste odstranit všechny řádky, pro které není definován `snow`. Co nám to říká?"
   ]
  },
  {
   "cell_type": "code",
   "execution_count": null,
   "metadata": {},
   "outputs": [],
   "source": [
    "denni_ruzyne.dropna(subset=[\"snow\"])"
   ]
  },
  {
   "cell_type": "markdown",
   "metadata": {},
   "source": [
    "**Úkol:** Nejstarší tag Pandas na https://github.com/pandas-dev/pandas je verze 0.3.0 z 20. února 2011. Jaké bylo v ten den v Praze - Ruzyni počasí?"
   ]
  },
  {
   "cell_type": "code",
   "execution_count": null,
   "metadata": {},
   "outputs": [],
   "source": [
    "denni_ruzyne.loc[\"2011-02-20\"]"
   ]
  },
  {
   "cell_type": "markdown",
   "metadata": {},
   "source": [
    "**Úkol:** Jaká byla průměrná teplota první (a jedinou) neděli v roce 2010, která byla zároveň začátkem měsíce? Pokud máte řešení a čas, zkuste vymyslet aternativní způsob(y). "
   ]
  },
  {
   "cell_type": "code",
   "execution_count": null,
   "metadata": {},
   "outputs": [],
   "source": [
    "# odkomentuj a doplň\n",
    "denni_ruzyne.loc[\n",
    "    (denni_ruzyne.index.year == 2010)\n",
    "    & (denni_ruzyne.index.day == 1)\n",
    "    & (denni_ruzyne.index.day_name() == \"Sunday\"),\n",
    "    \"tavg\",\n",
    "]"
   ]
  },
  {
   "cell_type": "code",
   "execution_count": null,
   "metadata": {},
   "outputs": [],
   "source": [
    "sns.catplot(\n",
    "    data=denni_ruzyne[[\"tavg\", \"tmin\", \"tmax\"]],\n",
    "    orient=\"h\",\n",
    "    kind=\"box\",\n",
    "    aspect=2,\n",
    ");"
   ]
  },
  {
   "cell_type": "markdown",
   "metadata": {},
   "source": [
    "**Úkol**: Doplňte pomocné sloupce `season` a `significant_precipitation` (jistě uhádnete jakého pandas-typu budou :). První definuje roční období (jen jednoduše podle kalendářních měsíců), druhý označuje dny, kdy byly srážky vyšší než v **90 %** všech dní v našich datech (můžete zkusit i jiný limit).\n",
    "\n",
    "1. Porovnejte numericky základní statistiky celého datasetu a podmnožiny, kdy výrazně pršelo nebo sněžilo. Zvyšují v průměru srážky teplotu? A co maximální nebo minimální? A jak je to se standardní odchylkou?\n",
    "2. Použijte `sns.catplot` pro vizuální srovnání distribučních funkcí pro jednotlivá roční období a dny s málo / hodně srážkami."
   ]
  },
  {
   "cell_type": "code",
   "execution_count": null,
   "metadata": {},
   "outputs": [],
   "source": [
    "# odkomentuj a doplň\n",
    "season = denni_ruzyne.index.month.map({\n",
    "    1: \"zima\",\n",
    "    2: \"zima\",\n",
    "    3: \"jaro\",\n",
    "    4: \"jaro\",\n",
    "    5: \"jaro\",\n",
    "    6: \"léto\",\n",
    "    7: \"léto\",\n",
    "    8: \"léto\",\n",
    "    9: \"podzim\",\n",
    "    10: \"podzim\",\n",
    "    11: \"podzim\",\n",
    "    12: \"zima\"\n",
    "})\n",
    "\n",
    "significant_precipitation = denni_ruzyne[\"prcp\"] > denni_ruzyne[\"prcp\"].quantile(.9)\n",
    "significant_precipitation"
   ]
  },
  {
   "cell_type": "code",
   "execution_count": null,
   "metadata": {},
   "outputs": [],
   "source": [
    "# úkol - jednoduché srovnání statistik pomocí rozdílu\n",
    "(\n",
    "    denni_ruzyne.loc[significant_precipitation].describe() - \n",
    "    denni_ruzyne.describe()\n",
    ")"
   ]
  },
  {
   "cell_type": "code",
   "execution_count": null,
   "metadata": {},
   "outputs": [],
   "source": [
    "# úkol - vizuální srovnání statistik\n",
    "sns.catplot(\n",
    "     data=denni_ruzyne.assign(\n",
    "        significant_precipitation=significant_precipitation,\n",
    "         season=season,\n",
    "     ),\n",
    "    kind=\"box\",\n",
    "     aspect=2,\n",
    "    hue=\"significant_precipitation\",\n",
    "     y=\"season\",\n",
    "    x=\"tavg\",\n",
    ");"
   ]
  },
  {
   "cell_type": "markdown",
   "metadata": {},
   "source": [
    "Co že jsme to vlastně vytvořili?"
   ]
  },
  {
   "cell_type": "code",
   "execution_count": null,
   "metadata": {},
   "outputs": [],
   "source": [
    "rocni_ruzyne = denni_ruzyne.resample(\"1YE\")"
   ]
  },
  {
   "cell_type": "markdown",
   "metadata": {},
   "source": [
    "**Úkol:** Navrhněte vhodnou roční agregaci pro maximální teplotu (ne průměr) a vykreslete."
   ]
  },
  {
   "cell_type": "code",
   "execution_count": null,
   "metadata": {},
   "outputs": [],
   "source": [
    "# odkomentuj a doplň\n",
    "rocni_ruzyne[\"tmax\"].max().plot();"
   ]
  },
  {
   "cell_type": "markdown",
   "metadata": {},
   "source": [
    "**Úkol:** Najděte, kdy v období 2000-2025 napršelo nejvíc za týden (tedy za průběžných 7 dnů). Odpovídá to nějaké vaší historické zkušenosti?"
   ]
  },
  {
   "cell_type": "code",
   "execution_count": null,
   "metadata": {},
   "outputs": [],
   "source": [
    "# doplňte nebo vyřešte po svém :)\n",
    "denni_ruzyne.loc[\"2000\":\"2025\"][\"prcp\"].rolling(\"7D\").sum().sort_values(ascending=False).iloc[:10]"
   ]
  },
  {
   "cell_type": "markdown",
   "metadata": {},
   "source": [
    "**Nepovinný úkol:** Rozšiřte hledání na celé období v naší datové sadě - jsou některé hodnoty realistické?"
   ]
  },
  {
   "cell_type": "code",
   "execution_count": null,
   "metadata": {},
   "outputs": [],
   "source": [
    "denni_ruzyne[\"prcp\"].rolling(\"7D\").sum().sort_values(ascending=False).iloc[:10]"
   ]
  },
  {
   "cell_type": "code",
   "execution_count": null,
   "metadata": {},
   "outputs": [],
   "source": [
    "hodinove_ruzyne = (\n",
    "    pd.read_parquet(\"praha-meteostat.parquet\")\n",
    "    .assign(\n",
    "        time=hodinove_ruzyne_original[\"time\"].dt.tz_localize(\"UTC\").dt.tz_convert(\"Europe/Prague\")\n",
    "    )\n",
    "    .set_index(\"time\")\n",
    ")"
   ]
  },
  {
   "cell_type": "markdown",
   "metadata": {},
   "source": [
    "**Úkol:** Jak silný foukal vítr (jak moc pršelo) v kterou hodinu den tvého narození?"
   ]
  },
  {
   "cell_type": "code",
   "execution_count": null,
   "metadata": {},
   "outputs": [],
   "source": [
    "hodinove_ruzyne.loc[\"2000-01-01\", \"wspd\"]"
   ]
  }
 ],
 "metadata": {
  "kernelspec": {
   "display_name": "Python 3 (ipykernel)",
   "language": "python",
   "name": "python3"
  },
  "language_info": {
   "codemirror_mode": {
    "name": "ipython",
    "version": 3
   },
   "file_extension": ".py",
   "mimetype": "text/x-python",
   "name": "python",
   "nbconvert_exporter": "python",
   "pygments_lexer": "ipython3",
   "version": "3.11.9"
  }
 },
 "nbformat": 4,
 "nbformat_minor": 4
}
